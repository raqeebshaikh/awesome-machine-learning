{
  "nbformat": 4,
  "nbformat_minor": 0,
  "metadata": {
    "colab": {
      "name": "mnist keras data ",
      "version": "0.3.2",
      "provenance": []
    },
    "kernelspec": {
      "name": "python3",
      "display_name": "Python 3"
    },
    "accelerator": "GPU"
  },
  "cells": [
    {
      "metadata": {
        "id": "TUL8FOIKaSts",
        "colab_type": "code",
        "colab": {}
      },
      "cell_type": "code",
      "source": [
        "from keras.datasets import mnist\n",
        "import numpy as np\n",
        "import keras\n",
        "from keras.models import Sequential\n",
        "from keras.layers import Dense, Dropout, Flatten\n",
        "from keras.layers import Conv2D,MaxPooling2D\n",
        "from keras.optimizers import SGD\n",
        "import tensorflow as tf\n",
        "import matplotlib.pyplot as plt"
      ],
      "execution_count": 0,
      "outputs": []
    },
    {
      "metadata": {
        "id": "LuJES3nqalye",
        "colab_type": "code",
        "colab": {}
      },
      "cell_type": "code",
      "source": [
        "(x_train,y_train),(x_test,y_test) = mnist.load_data()"
      ],
      "execution_count": 0,
      "outputs": []
    },
    {
      "metadata": {
        "id": "gaBCbwUJiDeZ",
        "colab_type": "code",
        "colab": {}
      },
      "cell_type": "code",
      "source": [
        "x_train = keras.utils.normalize(x_train,axis=1)\n",
        "x_test = keras.utils.normalize(x_test,axis=1)"
      ],
      "execution_count": 0,
      "outputs": []
    },
    {
      "metadata": {
        "id": "ErZPyHmdkva3",
        "colab_type": "code",
        "colab": {
          "base_uri": "https://localhost:8080/",
          "height": 714
        },
        "outputId": "f813f8f7-59b0-4e31-a4b2-5b43874b7be8"
      },
      "cell_type": "code",
      "source": [
        "model = Sequential()\n",
        "model.add(Flatten())\n",
        "model.add(Dense(128,activation=tf.nn.softplus))\n",
        "model.add(Dense(500,activation='relu'))\n",
        "model.add(Dense(250,activation='relu'))\n",
        "model.add(Dense(100,activation='relu'))\n",
        "model.add(Dense(10, activation='softmax'))\n",
        "model.compile(optimizer='adam',\n",
        "              loss='sparse_categorical_crossentropy',\n",
        "              metrics=['accuracy'])\n",
        "model.fit(x_train, y_train, epochs=20)"
      ],
      "execution_count": 69,
      "outputs": [
        {
          "output_type": "stream",
          "text": [
            "Epoch 1/20\n",
            "60000/60000 [==============================] - 15s 258us/step - loss: 0.3807 - acc: 0.8798\n",
            "Epoch 2/20\n",
            "60000/60000 [==============================] - 15s 247us/step - loss: 0.1741 - acc: 0.9457\n",
            "Epoch 3/20\n",
            "60000/60000 [==============================] - 15s 248us/step - loss: 0.1265 - acc: 0.9605\n",
            "Epoch 4/20\n",
            "60000/60000 [==============================] - 15s 247us/step - loss: 0.0976 - acc: 0.9699\n",
            "Epoch 5/20\n",
            "60000/60000 [==============================] - 15s 247us/step - loss: 0.0776 - acc: 0.9754\n",
            "Epoch 6/20\n",
            "60000/60000 [==============================] - 15s 246us/step - loss: 0.0661 - acc: 0.9796\n",
            "Epoch 7/20\n",
            "60000/60000 [==============================] - 15s 249us/step - loss: 0.0533 - acc: 0.9833\n",
            "Epoch 8/20\n",
            "60000/60000 [==============================] - 15s 249us/step - loss: 0.0467 - acc: 0.9849\n",
            "Epoch 9/20\n",
            "60000/60000 [==============================] - 15s 247us/step - loss: 0.0387 - acc: 0.9877\n",
            "Epoch 10/20\n",
            "60000/60000 [==============================] - 15s 253us/step - loss: 0.0346 - acc: 0.9892\n",
            "Epoch 11/20\n",
            "60000/60000 [==============================] - 15s 251us/step - loss: 0.0279 - acc: 0.9915\n",
            "Epoch 12/20\n",
            "60000/60000 [==============================] - 15s 251us/step - loss: 0.0263 - acc: 0.9917\n",
            "Epoch 13/20\n",
            "60000/60000 [==============================] - 15s 251us/step - loss: 0.0236 - acc: 0.9923\n",
            "Epoch 14/20\n",
            "60000/60000 [==============================] - 15s 251us/step - loss: 0.0215 - acc: 0.9932\n",
            "Epoch 15/20\n",
            "60000/60000 [==============================] - 18s 301us/step - loss: 0.0179 - acc: 0.9947\n",
            "Epoch 16/20\n",
            "60000/60000 [==============================] - 17s 279us/step - loss: 0.0202 - acc: 0.9940\n",
            "Epoch 17/20\n",
            "60000/60000 [==============================] - 16s 260us/step - loss: 0.0164 - acc: 0.9948\n",
            "Epoch 18/20\n",
            "60000/60000 [==============================] - 16s 264us/step - loss: 0.0148 - acc: 0.9954\n",
            "Epoch 19/20\n",
            "60000/60000 [==============================] - 16s 264us/step - loss: 0.0128 - acc: 0.9960\n",
            "Epoch 20/20\n",
            "60000/60000 [==============================] - 16s 264us/step - loss: 0.0146 - acc: 0.9957\n"
          ],
          "name": "stdout"
        },
        {
          "output_type": "execute_result",
          "data": {
            "text/plain": [
              "<keras.callbacks.History at 0x7f4b33102e10>"
            ]
          },
          "metadata": {
            "tags": []
          },
          "execution_count": 69
        }
      ]
    },
    {
      "metadata": {
        "id": "l10aRPswbNm0",
        "colab_type": "code",
        "outputId": "10384602-1010-4486-8551-c4d529f8654a",
        "colab": {
          "base_uri": "https://localhost:8080/",
          "height": 68
        }
      },
      "cell_type": "code",
      "source": [
        "val_loss, val_acc = model.evaluate(x_test, y_test)\n",
        "print(val_loss)\n",
        "print(val_acc)"
      ],
      "execution_count": 68,
      "outputs": [
        {
          "output_type": "stream",
          "text": [
            "10000/10000 [==============================] - 1s 93us/step\n",
            "0.12522380152353615\n",
            "0.9773\n"
          ],
          "name": "stdout"
        }
      ]
    },
    {
      "metadata": {
        "id": "xbaIBMY8vkKv",
        "colab_type": "code",
        "colab": {}
      },
      "cell_type": "code",
      "source": [
        "predection = model.predict(x_test)"
      ],
      "execution_count": 0,
      "outputs": []
    },
    {
      "metadata": {
        "id": "pBL-tOu3vhEE",
        "colab_type": "code",
        "colab": {
          "base_uri": "https://localhost:8080/",
          "height": 34
        },
        "outputId": "1bf85a34-a3b5-4812-9f08-9b4d2b91a3a5"
      },
      "cell_type": "code",
      "source": [
        "type(np.argmax(x_test[0]))"
      ],
      "execution_count": 54,
      "outputs": [
        {
          "output_type": "execute_result",
          "data": {
            "text/plain": [
              "numpy.int64"
            ]
          },
          "metadata": {
            "tags": []
          },
          "execution_count": 54
        }
      ]
    },
    {
      "metadata": {
        "id": "eO1fNjtAvayS",
        "colab_type": "code",
        "colab": {
          "base_uri": "https://localhost:8080/",
          "height": 34
        },
        "outputId": "01c9625b-30c1-46af-8a04-7eb4f473dd8e"
      },
      "cell_type": "code",
      "source": [
        "print(np.argmax(predection[0]))"
      ],
      "execution_count": 55,
      "outputs": [
        {
          "output_type": "stream",
          "text": [
            "7\n"
          ],
          "name": "stdout"
        }
      ]
    },
    {
      "metadata": {
        "id": "tDzZt4LhiBKD",
        "colab_type": "code",
        "colab": {}
      },
      "cell_type": "code",
      "source": [
        "predictions = model.predict(x_test)"
      ],
      "execution_count": 0,
      "outputs": []
    },
    {
      "metadata": {
        "id": "TpkfS-v3b0Ye",
        "colab_type": "code",
        "outputId": "222d4989-85f7-4e5e-81ab-426d3484df64",
        "colab": {
          "base_uri": "https://localhost:8080/",
          "height": 364
        }
      },
      "cell_type": "code",
      "source": [
        "plt.imshow(x_test[0])"
      ],
      "execution_count": 56,
      "outputs": [
        {
          "output_type": "execute_result",
          "data": {
            "text/plain": [
              "<matplotlib.image.AxesImage at 0x7f4b345b5f60>"
            ]
          },
          "metadata": {
            "tags": []
          },
          "execution_count": 56
        },
        {
          "output_type": "display_data",
          "data": {
            "image/png": "[encoded data removed]",
            "text/plain": [
              "<matplotlib.figure.Figure at 0x7f4b34645dd8>"
            ]
          },
          "metadata": {
            "tags": []
          }
        }
      ]
    },
    {
      "metadata": {
        "id": "4kUB63WKcKmp",
        "colab_type": "code",
        "outputId": "f371a735-dda5-47bc-f9f3-3f89bcc90dc1",
        "colab": {
          "base_uri": "https://localhost:8080/",
          "height": 347
        }
      },
      "cell_type": "code",
      "source": [
        "plt.imshow(x_test[0],cmap=plt.cm.binary)\n",
        "plt.show()"
      ],
      "execution_count": 31,
      "outputs": [
        {
          "output_type": "display_data",
          "data": {
            "image/png": "[encoded data removed]",
            "text/plain": [
              "<matplotlib.figure.Figure at 0x7f4b37adc828>"
            ]
          },
          "metadata": {
            "tags": []
          }
        }
      ]
    },
    {
      "metadata": {
        "id": "BA6lfxfakXFD",
        "colab_type": "code",
        "outputId": "3a33d4c7-e595-42bf-88ce-1b951a57480e",
        "colab": {
          "base_uri": "https://localhost:8080/",
          "height": 238
        }
      },
      "cell_type": "code",
      "source": [
        "model.predict(x_test)\n"
      ],
      "execution_count": 0,
      "outputs": [
        {
          "output_type": "execute_result",
          "data": {
            "text/plain": [
              "array([[6.0305150e-10, 2.1874607e-09, 9.6766450e-07, ..., 9.9998927e-01,\n",
              "        3.9696628e-09, 2.2548729e-08],\n",
              "       [1.7252513e-07, 6.5100899e-06, 9.9999189e-01, ..., 1.0541598e-10,\n",
              "        1.4032054e-07, 2.7388170e-11],\n",
              "       [8.3831611e-07, 9.9979252e-01, 1.7203798e-05, ..., 2.0035837e-05,\n",
              "        1.0215056e-04, 1.6074125e-06],\n",
              "       ...,\n",
              "       [1.9171018e-09, 3.8642575e-08, 2.1145285e-08, ..., 1.6453077e-05,\n",
              "        2.5197042e-07, 1.0494258e-05],\n",
              "       [5.7464109e-07, 2.4418252e-08, 9.6649963e-08, ..., 6.4193767e-07,\n",
              "        4.7356862e-04, 1.8034507e-09],\n",
              "       [3.6589993e-06, 2.1258643e-07, 1.2833219e-07, ..., 2.7704055e-09,\n",
              "        5.3978778e-07, 2.6883582e-08]], dtype=float32)"
            ]
          },
          "metadata": {
            "tags": []
          },
          "execution_count": 57
        }
      ]
    },
    {
      "metadata": {
        "id": "RoGY8gEPlTBh",
        "colab_type": "code",
        "outputId": "5b1247e0-336e-475f-ef2f-10dce83ab22e",
        "colab": {
          "base_uri": "https://localhost:8080/",
          "height": 364
        }
      },
      "cell_type": "code",
      "source": [
        "plt.imshow(x_test[0])"
      ],
      "execution_count": 0,
      "outputs": [
        {
          "output_type": "execute_result",
          "data": {
            "text/plain": [
              "<matplotlib.image.AxesImage at 0x7ff3ea425f28>"
            ]
          },
          "metadata": {
            "tags": []
          },
          "execution_count": 59
        },
        {
          "output_type": "display_data",
          "data": {
            "image/png": "[encoded data removed]",
            "text/plain": [
              "<matplotlib.figure.Figure at 0x7ff3ea51aeb8>"
            ]
          },
          "metadata": {
            "tags": []
          }
        }
      ]
    },
    {
      "metadata": {
        "id": "jjU47HUCldlB",
        "colab_type": "code",
        "colab": {}
      },
      "cell_type": "code",
      "source": [
        ""
      ],
      "execution_count": 0,
      "outputs": []
    },
    {
      "metadata": {
        "id": "_3z4Ng9YlP7M",
        "colab_type": "code",
        "colab": {}
      },
      "cell_type": "code",
      "source": [
        ""
      ],
      "execution_count": 0,
      "outputs": []
    },
    {
      "metadata": {
        "id": "ePd18IYpk9r2",
        "colab_type": "code",
        "colab": {}
      },
      "cell_type": "code",
      "source": [
        ""
      ],
      "execution_count": 0,
      "outputs": []
    }
  ]
}